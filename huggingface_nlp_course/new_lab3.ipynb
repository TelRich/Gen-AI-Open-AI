{
 "cells": [
  {
   "cell_type": "markdown",
   "metadata": {},
   "source": [
    "# LAB 3 Notebook\n",
    "\n",
    "Install the Transformers, Datasets, and Evaluate libraries to run this notebook."
   ]
  },
  {
   "cell_type": "code",
   "execution_count": null,
   "metadata": {},
   "outputs": [],
   "source": [
    "!pip install datasets evaluate transformers[sentencepiece]"
   ]
  },
  {
   "cell_type": "markdown",
   "metadata": {},
   "source": [
    "### 1.\n",
    "\n",
    "What's the code snippet that fine-tunes a pre-trained 'bert-base-uncased' model for sequence classification on the following different context:\n",
    "\n",
    "Sequences:\n",
    "1. 'The world is full of magic.'\n",
    "2. 'Exploration leads to discovery.'\n",
    "\n",
    "Additionally:\n",
    "- Padding and truncation are applied to the tokenized sequences.\n",
    "- Labels '0' are assigned to the sequences.\n",
    "- The loss is calculated and backpropagation is performed to optimize the model parameters using an optimizer."
   ]
  }
 ],
 "metadata": {
  "language_info": {
   "name": "python"
  }
 },
 "nbformat": 4,
 "nbformat_minor": 2
}
