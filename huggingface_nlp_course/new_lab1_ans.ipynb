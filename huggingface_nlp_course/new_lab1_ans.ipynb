{
 "cells": [
  {
   "cell_type": "markdown",
   "metadata": {},
   "source": [
    "# LAB 1 Notebook\n",
    "\n",
    "Install the Transformers, Datasets, and Evaluate libraries to run this notebook."
   ]
  },
  {
   "cell_type": "code",
   "execution_count": null,
   "metadata": {},
   "outputs": [],
   "source": [
    "!pip install datasets evaluate transformers[sentencepiece]"
   ]
  },
  {
   "cell_type": "markdown",
   "metadata": {},
   "source": [
    "### 1. \n",
    "What are the sentiment labels and their associated confidence scores provided by the sentiment analysis pipeline for the following text samples:\n",
    "\n",
    "* 'The new restaurant in town exceeded all my expectations, I loved it!'\n",
    "* 'This movie is incredibly captivating and heartwarming.'\n",
    "\n",
    "Please provide the sentiment labels and their respective confidence scores for each text sample."
   ]
  },
  {
   "cell_type": "code",
   "execution_count": null,
   "metadata": {},
   "outputs": [],
   "source": [
    "from transformers import pipeline\n",
    "\n",
    "# Load the sentiment analysis pipeline\n",
    "classifier = pipeline(\"sentiment-analysis\")\n",
    "\n",
    "# Different text samples for sentiment analysis\n",
    "different_text_samples = [\n",
    "    \"The new restaurant in town exceeded all my expectations, I loved it!\",\n",
    "    \"This movie is incredibly captivating and heartwarming.\",\n",
    "]\n",
    "\n",
    "# Perform sentiment analysis on the new text samples\n",
    "different_sentiment_results = classifier(different_text_samples)\n",
    "\n",
    "print(different_sentiment_results)\n"
   ]
  },
  {
   "cell_type": "markdown",
   "metadata": {},
   "source": [
    "### 2. \n",
    "What are the scores, rounded to four decimal places, assigned to the candidate labels when using zero-shot classification with the given text: 'The latest scientific research suggests a breakthrough in renewable energy sources.'? The candidate labels are 'technology', 'environment', and 'health'."
   ]
  },
  {
   "cell_type": "code",
   "execution_count": null,
   "metadata": {},
   "outputs": [],
   "source": [
    "from transformers import pipeline\n",
    "\n",
    "# Load the zero-shot classification pipeline\n",
    "classifier = pipeline(\"zero-shot-classification\")\n",
    "\n",
    "# Text to classify\n",
    "text_to_classify = \"The latest scientific research suggests a breakthrough in renewable energy sources.\"\n",
    "\n",
    "# Candidate labels/categories\n",
    "candidate_labels = [\"technology\", \"environment\", \"health\"]\n",
    "\n",
    "# Perform zero-shot classification\n",
    "result = classifier(text_to_classify, candidate_labels)\n",
    "\n",
    "print(result)"
   ]
  },
  {
   "cell_type": "code",
   "execution_count": null,
   "metadata": {},
   "outputs": [],
   "source": [
    "from transformers import pipeline\n",
    "\n",
    "# Create a pipeline for text generation\n",
    "generator = pipeline(\"text-generation\")\n",
    "\n",
    "# Provide a different context for text generation\n",
    "generated_text = generator(\"Exploring the depths of the ocean reveals\")\n",
    "\n",
    "# Print the generated text\n",
    "print(generated_text[0]['generated_text'])\n"
   ]
  }
 ],
 "metadata": {
  "language_info": {
   "name": "python"
  }
 },
 "nbformat": 4,
 "nbformat_minor": 2
}
