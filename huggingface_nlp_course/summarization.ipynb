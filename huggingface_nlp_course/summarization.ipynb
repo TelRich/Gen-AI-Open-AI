{
 "cells": [
  {
   "cell_type": "markdown",
   "metadata": {},
   "source": [
    "## Summarization\n",
    "\n",
    "This section delves into the application of Transformer models for text summarization, which involves condensing lengthy documents into shorter summaries. Text summarization stands as one of the most intricate NLP tasks, demanding a combination of skills such as comprehending lengthy passages and producing coherent text that encapsulates the central themes of a document. Successful text summarization serves as a powerful tool that can streamline various business processes by alleviating the need for domain experts to meticulously review lengthy documents.\n",
    "\n",
    "This section also introduces the concept of training a bilingual Transformer model for summarizing customer reviews in both English and Spanish. By the end of this section, you will have developed a model capable of effectively summarizing customer reviews in both languages."
   ]
  },
  {
   "cell_type": "markdown",
   "metadata": {},
   "source": [
    "### Preparing a multilingual corpus\n",
    "\n",
    "To create a bilingual text summarization model, we'll utilize the [Multilingual Amazon Reviews Corpus](https://huggingface.co/datasets/amazon_reviews_multi), a collection of Amazon product reviews in six languages. Traditionally employed for evaluating multilingual classifiers, this corpus proves valuable for our summarization task due to the inclusion of short titles alongside each review. These titles will serve as target summaries for our model. To initiate the process, we'll download the English and Spanish subsets from the Hugging Face Hub."
   ]
  },
  {
   "cell_type": "code",
   "execution_count": null,
   "metadata": {},
   "outputs": [],
   "source": [
    "from datasets import load_dataset\n",
    "\n",
    "spanish_dataset = load_dataset(\"amazon_reviews_multi\", \"es\")\n",
    "english_dataset = load_dataset(\"amazon_reviews_multi\", \"en\")\n",
    "english_dataset"
   ]
  },
  {
   "cell_type": "markdown",
   "metadata": {},
   "source": [
    "The Multilingual Amazon Reviews Corpus contains 200,000 reviews for the training split in each language and 5,000 reviews for each of the validation and test splits. The relevant review information is stored in the `review_body` and `review_title` columns. To examine a few examples, we can create a simple function that retrieves a random sample from the training set using the techniques introduced in Chapter 5."
   ]
  },
  {
   "cell_type": "code",
   "execution_count": null,
   "metadata": {},
   "outputs": [],
   "source": [
    "def show_samples(dataset, num_samples=3, seed=42):\n",
    "    sample = dataset[\"train\"].shuffle(seed=seed).select(range(num_samples))\n",
    "    for example in sample:\n",
    "        print(f\"\\n'>> Title: {example['review_title']}'\")\n",
    "        print(f\"'>> Review: {example['review_body']}'\")\n",
    "\n",
    "\n",
    "show_samples(english_dataset)"
   ]
  },
  {
   "cell_type": "markdown",
   "metadata": {},
   "source": [
    "* 5 Stages (each stage has a lab )\n",
    "* duration\n",
    "* Quiz for each stage\n",
    "* Have a notebook for the labs (each stage)\n",
    "* Premeier project and capstone project (Detailed for the student).\n",
    "\n"
   ]
  }
 ],
 "metadata": {
  "language_info": {
   "name": "python"
  }
 },
 "nbformat": 4,
 "nbformat_minor": 2
}
